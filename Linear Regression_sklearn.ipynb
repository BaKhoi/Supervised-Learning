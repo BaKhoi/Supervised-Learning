{
 "cells": [
  {
   "cell_type": "code",
   "execution_count": 8,
   "metadata": {},
   "outputs": [
    {
     "name": "stdout",
     "output_type": "stream",
     "text": [
      "           Hours    Scores\n",
      "Hours   1.000000  0.976191\n",
      "Scores  0.976191  1.000000\n"
     ]
    },
    {
     "data": {
      "image/png": "[encoded data removed]",
      "text/plain": [
       "<Figure size 576x432 with 1 Axes>"
      ]
     },
     "metadata": {
      "needs_background": "light"
     },
     "output_type": "display_data"
    }
   ],
   "source": [
    "import numpy as np\n",
    "import pandas as pd\n",
    "import matplotlib.pyplot as plt\n",
    "from sklearn.linear_model import LinearRegression\n",
    "from sklearn import preprocessing, svm, linear_model\n",
    "from sklearn.model_selection import train_test_split\n",
    "\n",
    "#Rescale figure's size\n",
    "plt.rcParams['figure.figsize'] = (8,6) #width and height of figure\n",
    "\n",
    "# Preprocessing Input data\n",
    "path_to_file = 'F:\\AI\\Supervised Learning\\student_scores.csv'\n",
    "df = pd.read_csv(path_to_file)\n",
    "\n",
    "#visualize\n",
    "df.plot.scatter(x=\"Hours\", y=\"Scores\", color = 'turquoise')\n",
    "\n",
    "#Test the correlation (Check if linear regression is applicable)\n",
    "print(df.corr())"
   ]
  },
  {
   "cell_type": "code",
   "execution_count": 9,
   "metadata": {},
   "outputs": [
    {
     "name": "stdout",
     "output_type": "stream",
     "text": [
      "[[2.7]\n",
      " [3.3]\n",
      " [5.1]\n",
      " [3.8]\n",
      " [1.5]\n",
      " [3.2]\n",
      " [4.5]\n",
      " [8.9]\n",
      " [8.5]\n",
      " [3.5]\n",
      " [2.7]\n",
      " [1.9]\n",
      " [4.8]\n",
      " [6.1]\n",
      " [7.8]\n",
      " [5.5]\n",
      " [7.7]\n",
      " [1.1]\n",
      " [7.4]\n",
      " [9.2]]\n",
      "[[25]\n",
      " [42]\n",
      " [47]\n",
      " [35]\n",
      " [20]\n",
      " [27]\n",
      " [41]\n",
      " [95]\n",
      " [75]\n",
      " [30]\n",
      " [30]\n",
      " [24]\n",
      " [54]\n",
      " [67]\n",
      " [86]\n",
      " [60]\n",
      " [85]\n",
      " [17]\n",
      " [69]\n",
      " [88]]\n"
     ]
    }
   ],
   "source": [
    "#Reshape to 2D arrays\n",
    "#Initially X and Y have no row and no column, just elements\n",
    "X = df['Hours'].values.reshape(-1,1)#-1:unknown row, whatever it takes to reshape compatibly; 1: 1 column\n",
    "Y = df['Scores'].values.reshape(-1,1)\n",
    "#Separate targets and features\n",
    "X_train, X_test, Y_train, Y_test = train_test_split(X, Y, test_size = 0.2, random_state = 42)\n",
    "# The method randomly takes samples respecting the percentage we've defined,\n",
    "# but respects the X-y pairs, lest the sampling would totally mix up the relationship. \n",
    "# Some common train-test splits are 80/20 and 70/30.\n",
    "print(X_train) \n",
    "print(Y_train) "
   ]
  },
  {
   "cell_type": "code",
   "execution_count": 10,
   "metadata": {},
   "outputs": [
    {
     "name": "stdout",
     "output_type": "stream",
     "text": [
      "b = [2.82689235]\n",
      "w = [[9.68207815]]\n",
      "[[37.68237371]]\n"
     ]
    }
   ],
   "source": [
    "regressor = LinearRegression()\n",
    "regressor.fit(X_train, Y_train)\n",
    "#Intercept(b)\n",
    "print(f'b = { regressor.intercept_}')\n",
    "#Slope\n",
    "print(f'w = {regressor.coef_}')\n",
    "\n",
    "#predict\n",
    "# Passing 3.6 in double brackets to have a 2 dimensional array\n",
    "score = regressor.predict([[3.6]])\n",
    "print(score) # 94.80663482\n"
   ]
  },
  {
   "cell_type": "code",
   "execution_count": 11,
   "metadata": {},
   "outputs": [
    {
     "name": "stdout",
     "output_type": "stream",
     "text": [
      "   Actual  Predicted\n",
      "0      81  83.188141\n",
      "1      30  27.032088\n",
      "2      21  27.032088\n",
      "3      76  69.633232\n",
      "4      62  59.951153\n"
     ]
    }
   ],
   "source": [
    "#Make predictions based on test data\n",
    "Y_pred = regressor.predict(X_test)\n",
    "df_preds = pd.DataFrame({'Actual': Y_test.squeeze(), 'Predicted': Y_pred.squeeze()})\n",
    "print(df_preds)"
   ]
  }
 ],
 "metadata": {
  "kernelspec": {
   "display_name": "Python 3",
   "language": "python",
   "name": "python3"
  },
  "language_info": {
   "codemirror_mode": {
    "name": "ipython",
    "version": 3
   },
   "file_extension": ".py",
   "mimetype": "text/x-python",
   "name": "python",
   "nbconvert_exporter": "python",
   "pygments_lexer": "ipython3",
   "version": "3.10.4"
  },
  "orig_nbformat": 4,
  "vscode": {
   "interpreter": {
    "hash": "a42ccb73e7d9bfdf27e036f1d2b8b681e55fc0743cc5586bc2474d4a60f4b886"
   }
  }
 },
 "nbformat": 4,
 "nbformat_minor": 2
}
